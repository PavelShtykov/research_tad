{
 "cells": [
  {
   "cell_type": "code",
   "execution_count": 243,
   "id": "0e6e2735",
   "metadata": {},
   "outputs": [
    {
     "name": "stdout",
     "output_type": "stream",
     "text": [
      "The autoreload extension is already loaded. To reload it, use:\n",
      "  %reload_ext autoreload\n"
     ]
    }
   ],
   "source": [
    "%load_ext autoreload\n",
    "%autoreload 2\n",
    "\n",
    "import torch\n",
    "from transformers import LlamaConfig, LlamaForCausalLM, LlamaTokenizerFast, AutoModelForCausalLM, AutoTokenizer, DataCollatorForLanguageModeling, GenerationConfig\n",
    "from datasets import load_dataset \n",
    "from torch.utils.data import DataLoader\n",
    "from datasets import Dataset, IterableDataset\n",
    "from tqdm import tqdm\n",
    "\n",
    "import torch\n",
    "import litgpt\n",
    "# import litdata as ld\n",
    "# from litgpt.pretrain import initialize_weights\n",
    "import lightning as L\n",
    "import os\n",
    "from scipy.spatial import distance\n",
    "from sklearn.metrics import ndcg_score\n",
    "import numpy as np\n",
    "from torch.nn.functional import  kl_div\n",
    "\n",
    "os.environ['CUDA_LAUNCH_BLOCKING'] = '1'"
   ]
  },
  {
   "cell_type": "code",
   "execution_count": 2,
   "id": "8df8dc6a",
   "metadata": {},
   "outputs": [
    {
     "data": {
      "application/vnd.jupyter.widget-view+json": {
       "model_id": "96b662992d204f9bbf7dcf0b1f7f03f1",
       "version_major": 2,
       "version_minor": 0
      },
      "text/plain": [
       "config.json:   0%|          | 0.00/844 [00:00<?, ?B/s]"
      ]
     },
     "metadata": {},
     "output_type": "display_data"
    },
    {
     "data": {
      "application/vnd.jupyter.widget-view+json": {
       "model_id": "c8facf90e0e2405cb974fd3de409c150",
       "version_major": 2,
       "version_minor": 0
      },
      "text/plain": [
       "model.safetensors.index.json:   0%|          | 0.00/20.9k [00:00<?, ?B/s]"
      ]
     },
     "metadata": {},
     "output_type": "display_data"
    },
    {
     "data": {
      "application/vnd.jupyter.widget-view+json": {
       "model_id": "83a7d544ca2d44cf9bfa2a19bbc0dd71",
       "version_major": 2,
       "version_minor": 0
      },
      "text/plain": [
       "Fetching 2 files:   0%|          | 0/2 [00:00<?, ?it/s]"
      ]
     },
     "metadata": {},
     "output_type": "display_data"
    },
    {
     "data": {
      "application/vnd.jupyter.widget-view+json": {
       "model_id": "bad0f92bdb934f87a1114c26f89a849a",
       "version_major": 2,
       "version_minor": 0
      },
      "text/plain": [
       "model-00001-of-00002.safetensors:   0%|          | 0.00/4.97G [00:00<?, ?B/s]"
      ]
     },
     "metadata": {},
     "output_type": "display_data"
    },
    {
     "data": {
      "application/vnd.jupyter.widget-view+json": {
       "model_id": "bfdab9c251ee422b8e6173f592bcb629",
       "version_major": 2,
       "version_minor": 0
      },
      "text/plain": [
       "model-00002-of-00002.safetensors:   0%|          | 0.00/1.46G [00:00<?, ?B/s]"
      ]
     },
     "metadata": {},
     "output_type": "display_data"
    },
    {
     "data": {
      "application/vnd.jupyter.widget-view+json": {
       "model_id": "3459f7cb3dce49a5bcda3589d65d12d7",
       "version_major": 2,
       "version_minor": 0
      },
      "text/plain": [
       "Loading checkpoint shards:   0%|          | 0/2 [00:00<?, ?it/s]"
      ]
     },
     "metadata": {},
     "output_type": "display_data"
    },
    {
     "data": {
      "application/vnd.jupyter.widget-view+json": {
       "model_id": "3bfe99facc614edca4aed25ab26547a7",
       "version_major": 2,
       "version_minor": 0
      },
      "text/plain": [
       "generation_config.json:   0%|          | 0.00/185 [00:00<?, ?B/s]"
      ]
     },
     "metadata": {},
     "output_type": "display_data"
    },
    {
     "data": {
      "application/vnd.jupyter.widget-view+json": {
       "model_id": "023d7c164deb4e339868497c865549b2",
       "version_major": 2,
       "version_minor": 0
      },
      "text/plain": [
       "tokenizer_config.json:   0%|          | 0.00/50.5k [00:00<?, ?B/s]"
      ]
     },
     "metadata": {},
     "output_type": "display_data"
    },
    {
     "data": {
      "application/vnd.jupyter.widget-view+json": {
       "model_id": "968bfc1b7e874aa8b466a1cb53b5dedf",
       "version_major": 2,
       "version_minor": 0
      },
      "text/plain": [
       "tokenizer.json:   0%|          | 0.00/9.09M [00:00<?, ?B/s]"
      ]
     },
     "metadata": {},
     "output_type": "display_data"
    },
    {
     "data": {
      "application/vnd.jupyter.widget-view+json": {
       "model_id": "bacb5f15837d4995bc7a08cb424554ab",
       "version_major": 2,
       "version_minor": 0
      },
      "text/plain": [
       "special_tokens_map.json:   0%|          | 0.00/301 [00:00<?, ?B/s]"
      ]
     },
     "metadata": {},
     "output_type": "display_data"
    }
   ],
   "source": [
    "model_name = \"meta-llama/Llama-3.2-3B\"\n",
    "\n",
    "model = AutoModelForCausalLM.from_pretrained(model_name)\n",
    "tokenizer = AutoTokenizer.from_pretrained(model_name)\n"
   ]
  },
  {
   "cell_type": "code",
   "execution_count": 35,
   "id": "624b0aac",
   "metadata": {},
   "outputs": [
    {
     "data": {
      "text/plain": [
       "LlamaConfig {\n",
       "  \"_attn_implementation_autoset\": true,\n",
       "  \"architectures\": [\n",
       "    \"LlamaForCausalLM\"\n",
       "  ],\n",
       "  \"attention_bias\": false,\n",
       "  \"attention_dropout\": 0.0,\n",
       "  \"bos_token_id\": 128000,\n",
       "  \"eos_token_id\": 128001,\n",
       "  \"head_dim\": 128,\n",
       "  \"hidden_act\": \"silu\",\n",
       "  \"hidden_size\": 3072,\n",
       "  \"initializer_range\": 0.02,\n",
       "  \"intermediate_size\": 8192,\n",
       "  \"max_position_embeddings\": 131072,\n",
       "  \"mlp_bias\": false,\n",
       "  \"model_type\": \"llama\",\n",
       "  \"num_attention_heads\": 24,\n",
       "  \"num_hidden_layers\": 28,\n",
       "  \"num_key_value_heads\": 8,\n",
       "  \"pretraining_tp\": 1,\n",
       "  \"rms_norm_eps\": 1e-05,\n",
       "  \"rope_scaling\": {\n",
       "    \"factor\": 32.0,\n",
       "    \"high_freq_factor\": 4.0,\n",
       "    \"low_freq_factor\": 1.0,\n",
       "    \"original_max_position_embeddings\": 8192,\n",
       "    \"rope_type\": \"llama3\"\n",
       "  },\n",
       "  \"rope_theta\": 500000.0,\n",
       "  \"tie_word_embeddings\": true,\n",
       "  \"torch_dtype\": \"float32\",\n",
       "  \"transformers_version\": \"4.51.2\",\n",
       "  \"use_cache\": true,\n",
       "  \"vocab_size\": 128256\n",
       "}"
      ]
     },
     "execution_count": 35,
     "metadata": {},
     "output_type": "execute_result"
    }
   ],
   "source": [
    "model.config"
   ]
  },
  {
   "cell_type": "code",
   "execution_count": 7,
   "id": "c26a2ea7",
   "metadata": {},
   "outputs": [
    {
     "data": {
      "application/vnd.jupyter.widget-view+json": {
       "model_id": "88ca16c7974343ecbd85feb1528c0ae3",
       "version_major": 2,
       "version_minor": 0
      },
      "text/plain": [
       "Resolving data files:   0%|          | 0/128 [00:00<?, ?it/s]"
      ]
     },
     "metadata": {},
     "output_type": "display_data"
    },
    {
     "data": {
      "application/vnd.jupyter.widget-view+json": {
       "model_id": "df74e3295d9141e585b84509ae8f5c52",
       "version_major": 2,
       "version_minor": 0
      },
      "text/plain": [
       "Resolving data files:   0%|          | 0/128 [00:00<?, ?it/s]"
      ]
     },
     "metadata": {},
     "output_type": "display_data"
    }
   ],
   "source": [
    "data_files = {\"train\": \"train/*.parquet\", \"validation\": \"validation/*.parquet\"}\n",
    "dataset: IterableDataset = load_dataset(\"../slim_pajama_1m\", data_files=data_files, streaming=True)\n",
    "dataset = dataset.remove_columns(['input_ids', 'attention_mask'])\n",
    "\n",
    "val_dataloader = DataLoader(\n",
    "    dataset['validation'], batch_size=1\n",
    ")"
   ]
  },
  {
   "cell_type": "code",
   "execution_count": 11,
   "id": "92453190",
   "metadata": {},
   "outputs": [
    {
     "data": {
      "text/plain": [
       "{'text': [\"Design, production and dispatch of DM appeal letter with personalised variable segments. Multiple sheets matched by mrd barcode. Supporting appeal poster placed in Marketing Impact's high profile building frontage for the duration of the campaign.\"],\n",
       " 'meta': {'redpajama_set_name': ['RedPajamaC4']}}"
      ]
     },
     "execution_count": 11,
     "metadata": {},
     "output_type": "execute_result"
    }
   ],
   "source": [
    "b"
   ]
  },
  {
   "cell_type": "code",
   "execution_count": null,
   "id": "da21e37f",
   "metadata": {},
   "outputs": [],
   "source": []
  },
  {
   "cell_type": "code",
   "execution_count": null,
   "id": "407656d9",
   "metadata": {},
   "outputs": [],
   "source": []
  },
  {
   "cell_type": "code",
   "execution_count": null,
   "id": "34599cea",
   "metadata": {},
   "outputs": [],
   "source": [
    "class JSD(torch.nn.Module):\n",
    "    def __init__(self):\n",
    "        super(JSD, self).__init__()\n",
    "        self.kl = torch.nn.KLDivLoss(reduction='batchmean', log_target=True)\n",
    "\n",
    "    def forward(self, p: torch.tensor, q: torch.tensor):\n",
    "        p, q = p.view(-1, p.size(-1)), q.view(-1, q.size(-1))\n",
    "        m = (0.5 * (p + q)).log()\n",
    "        return 0.5 * (self.kl(m, p.log()) + self.kl(m, q.log()))"
   ]
  },
  {
   "cell_type": "code",
   "execution_count": 255,
   "id": "db5fd27e",
   "metadata": {},
   "outputs": [
    {
     "name": "stderr",
     "output_type": "stream",
     "text": [
      "  0%|          | 0/300 [00:00<?, ?it/s]Setting `pad_token_id` to `eos_token_id`:128001 for open-end generation.\n",
      "  0%|          | 1/300 [00:01<09:15,  1.86s/it]Setting `pad_token_id` to `eos_token_id`:128001 for open-end generation.\n",
      "  1%|          | 2/300 [00:03<07:46,  1.57s/it]Setting `pad_token_id` to `eos_token_id`:128001 for open-end generation.\n",
      "  1%|          | 3/300 [00:03<04:42,  1.05it/s]Setting `pad_token_id` to `eos_token_id`:128001 for open-end generation.\n",
      "  1%|▏         | 4/300 [00:04<05:29,  1.11s/it]Setting `pad_token_id` to `eos_token_id`:128001 for open-end generation.\n",
      "  2%|▏         | 5/300 [00:06<05:54,  1.20s/it]Setting `pad_token_id` to `eos_token_id`:128001 for open-end generation.\n",
      "  2%|▏         | 6/300 [00:07<06:09,  1.26s/it]Setting `pad_token_id` to `eos_token_id`:128001 for open-end generation.\n",
      "  2%|▏         | 7/300 [00:08<06:18,  1.29s/it]Setting `pad_token_id` to `eos_token_id`:128001 for open-end generation.\n",
      "  3%|▎         | 8/300 [00:10<06:23,  1.31s/it]Setting `pad_token_id` to `eos_token_id`:128001 for open-end generation.\n",
      "  3%|▎         | 9/300 [00:11<06:26,  1.33s/it]Setting `pad_token_id` to `eos_token_id`:128001 for open-end generation.\n",
      "  3%|▎         | 10/300 [00:12<06:27,  1.34s/it]Setting `pad_token_id` to `eos_token_id`:128001 for open-end generation.\n",
      "  4%|▎         | 11/300 [00:14<06:28,  1.34s/it]Setting `pad_token_id` to `eos_token_id`:128001 for open-end generation.\n",
      "  4%|▍         | 12/300 [00:15<06:29,  1.35s/it]Setting `pad_token_id` to `eos_token_id`:128001 for open-end generation.\n",
      "  4%|▍         | 13/300 [00:17<06:30,  1.36s/it]Setting `pad_token_id` to `eos_token_id`:128001 for open-end generation.\n",
      "  5%|▍         | 14/300 [00:18<06:27,  1.36s/it]Setting `pad_token_id` to `eos_token_id`:128001 for open-end generation.\n",
      "  5%|▌         | 15/300 [00:19<06:26,  1.36s/it]Setting `pad_token_id` to `eos_token_id`:128001 for open-end generation.\n",
      "  5%|▌         | 16/300 [00:21<06:25,  1.36s/it]Setting `pad_token_id` to `eos_token_id`:128001 for open-end generation.\n",
      "  6%|▌         | 17/300 [00:22<06:24,  1.36s/it]Setting `pad_token_id` to `eos_token_id`:128001 for open-end generation.\n",
      "  6%|▌         | 18/300 [00:23<06:25,  1.37s/it]Setting `pad_token_id` to `eos_token_id`:128001 for open-end generation.\n",
      "  6%|▋         | 19/300 [00:25<06:23,  1.36s/it]Setting `pad_token_id` to `eos_token_id`:128001 for open-end generation.\n",
      "  7%|▋         | 20/300 [00:26<06:21,  1.36s/it]Setting `pad_token_id` to `eos_token_id`:128001 for open-end generation.\n",
      "  7%|▋         | 21/300 [00:27<06:21,  1.37s/it]Setting `pad_token_id` to `eos_token_id`:128001 for open-end generation.\n",
      "  7%|▋         | 22/300 [00:29<06:18,  1.36s/it]Setting `pad_token_id` to `eos_token_id`:128001 for open-end generation.\n",
      "  8%|▊         | 23/300 [00:30<06:16,  1.36s/it]Setting `pad_token_id` to `eos_token_id`:128001 for open-end generation.\n",
      "  8%|▊         | 24/300 [00:32<06:15,  1.36s/it]Setting `pad_token_id` to `eos_token_id`:128001 for open-end generation.\n",
      "  8%|▊         | 25/300 [00:33<06:13,  1.36s/it]Setting `pad_token_id` to `eos_token_id`:128001 for open-end generation.\n",
      "  9%|▊         | 26/300 [00:34<06:12,  1.36s/it]Setting `pad_token_id` to `eos_token_id`:128001 for open-end generation.\n",
      "  9%|▉         | 27/300 [00:36<06:12,  1.37s/it]Setting `pad_token_id` to `eos_token_id`:128001 for open-end generation.\n",
      "  9%|▉         | 28/300 [00:37<06:10,  1.36s/it]Setting `pad_token_id` to `eos_token_id`:128001 for open-end generation.\n",
      " 10%|▉         | 29/300 [00:38<06:10,  1.37s/it]Setting `pad_token_id` to `eos_token_id`:128001 for open-end generation.\n",
      " 10%|█         | 30/300 [00:40<06:08,  1.37s/it]Setting `pad_token_id` to `eos_token_id`:128001 for open-end generation.\n",
      " 10%|█         | 31/300 [00:41<06:08,  1.37s/it]Setting `pad_token_id` to `eos_token_id`:128001 for open-end generation.\n",
      " 11%|█         | 32/300 [00:42<04:56,  1.11s/it]Setting `pad_token_id` to `eos_token_id`:128001 for open-end generation.\n",
      " 11%|█         | 33/300 [00:43<05:15,  1.18s/it]Setting `pad_token_id` to `eos_token_id`:128001 for open-end generation.\n",
      " 11%|█▏        | 34/300 [00:44<05:29,  1.24s/it]Setting `pad_token_id` to `eos_token_id`:128001 for open-end generation.\n",
      " 12%|█▏        | 35/300 [00:46<05:38,  1.28s/it]Setting `pad_token_id` to `eos_token_id`:128001 for open-end generation.\n",
      " 12%|█▏        | 36/300 [00:47<05:43,  1.30s/it]Setting `pad_token_id` to `eos_token_id`:128001 for open-end generation.\n",
      " 12%|█▏        | 37/300 [00:48<05:48,  1.33s/it]Setting `pad_token_id` to `eos_token_id`:128001 for open-end generation.\n",
      " 13%|█▎        | 38/300 [00:49<05:14,  1.20s/it]Setting `pad_token_id` to `eos_token_id`:128001 for open-end generation.\n",
      " 13%|█▎        | 39/300 [00:51<05:25,  1.25s/it]Setting `pad_token_id` to `eos_token_id`:128001 for open-end generation.\n",
      " 13%|█▎        | 40/300 [00:52<05:33,  1.28s/it]Setting `pad_token_id` to `eos_token_id`:128001 for open-end generation.\n",
      " 14%|█▎        | 41/300 [00:53<05:37,  1.30s/it]Setting `pad_token_id` to `eos_token_id`:128001 for open-end generation.\n",
      " 14%|█▍        | 42/300 [00:55<05:40,  1.32s/it]Setting `pad_token_id` to `eos_token_id`:128001 for open-end generation.\n",
      " 14%|█▍        | 43/300 [00:56<05:41,  1.33s/it]Setting `pad_token_id` to `eos_token_id`:128001 for open-end generation.\n",
      " 15%|█▍        | 44/300 [00:58<05:43,  1.34s/it]Setting `pad_token_id` to `eos_token_id`:128001 for open-end generation.\n",
      " 15%|█▌        | 45/300 [00:59<05:44,  1.35s/it]Setting `pad_token_id` to `eos_token_id`:128001 for open-end generation.\n",
      " 15%|█▌        | 46/300 [01:00<05:43,  1.35s/it]Setting `pad_token_id` to `eos_token_id`:128001 for open-end generation.\n",
      " 16%|█▌        | 47/300 [01:02<05:42,  1.35s/it]Setting `pad_token_id` to `eos_token_id`:128001 for open-end generation.\n",
      " 16%|█▌        | 48/300 [01:03<05:41,  1.36s/it]Setting `pad_token_id` to `eos_token_id`:128001 for open-end generation.\n",
      " 16%|█▋        | 49/300 [01:04<05:39,  1.35s/it]Setting `pad_token_id` to `eos_token_id`:128001 for open-end generation.\n",
      " 17%|█▋        | 50/300 [01:06<05:40,  1.36s/it]Setting `pad_token_id` to `eos_token_id`:128001 for open-end generation.\n",
      " 17%|█▋        | 51/300 [01:07<05:40,  1.37s/it]Setting `pad_token_id` to `eos_token_id`:128001 for open-end generation.\n",
      " 17%|█▋        | 52/300 [01:08<05:40,  1.37s/it]Setting `pad_token_id` to `eos_token_id`:128001 for open-end generation.\n",
      " 18%|█▊        | 53/300 [01:10<05:39,  1.37s/it]Setting `pad_token_id` to `eos_token_id`:128001 for open-end generation.\n",
      " 18%|█▊        | 54/300 [01:11<05:36,  1.37s/it]Setting `pad_token_id` to `eos_token_id`:128001 for open-end generation.\n",
      " 18%|█▊        | 55/300 [01:13<05:33,  1.36s/it]Setting `pad_token_id` to `eos_token_id`:128001 for open-end generation.\n",
      " 19%|█▊        | 56/300 [01:14<05:32,  1.36s/it]Setting `pad_token_id` to `eos_token_id`:128001 for open-end generation.\n",
      " 19%|█▉        | 57/300 [01:15<05:30,  1.36s/it]Setting `pad_token_id` to `eos_token_id`:128001 for open-end generation.\n",
      " 19%|█▉        | 58/300 [01:17<05:31,  1.37s/it]Setting `pad_token_id` to `eos_token_id`:128001 for open-end generation.\n",
      " 20%|█▉        | 59/300 [01:18<05:30,  1.37s/it]Setting `pad_token_id` to `eos_token_id`:128001 for open-end generation.\n",
      " 20%|██        | 60/300 [01:19<05:28,  1.37s/it]Setting `pad_token_id` to `eos_token_id`:128001 for open-end generation.\n",
      " 20%|██        | 61/300 [01:21<05:25,  1.36s/it]Setting `pad_token_id` to `eos_token_id`:128001 for open-end generation.\n",
      " 21%|██        | 62/300 [01:22<05:25,  1.37s/it]Setting `pad_token_id` to `eos_token_id`:128001 for open-end generation.\n",
      " 21%|██        | 63/300 [01:23<05:25,  1.37s/it]Setting `pad_token_id` to `eos_token_id`:128001 for open-end generation.\n",
      " 21%|██▏       | 64/300 [01:25<05:22,  1.37s/it]Setting `pad_token_id` to `eos_token_id`:128001 for open-end generation.\n",
      " 22%|██▏       | 65/300 [01:26<05:20,  1.36s/it]Setting `pad_token_id` to `eos_token_id`:128001 for open-end generation.\n",
      " 22%|██▏       | 66/300 [01:28<05:18,  1.36s/it]Setting `pad_token_id` to `eos_token_id`:128001 for open-end generation.\n",
      " 22%|██▏       | 67/300 [01:29<05:18,  1.37s/it]Setting `pad_token_id` to `eos_token_id`:128001 for open-end generation.\n",
      " 23%|██▎       | 68/300 [01:30<05:16,  1.37s/it]Setting `pad_token_id` to `eos_token_id`:128001 for open-end generation.\n",
      " 23%|██▎       | 69/300 [01:32<05:14,  1.36s/it]Setting `pad_token_id` to `eos_token_id`:128001 for open-end generation.\n",
      "Setting `pad_token_id` to `eos_token_id`:128001 for open-end generation.\n",
      " 24%|██▎       | 71/300 [01:33<04:05,  1.07s/it]Setting `pad_token_id` to `eos_token_id`:128001 for open-end generation.\n",
      " 24%|██▍       | 72/300 [01:34<04:20,  1.14s/it]Setting `pad_token_id` to `eos_token_id`:128001 for open-end generation.\n",
      " 24%|██▍       | 73/300 [01:36<04:31,  1.20s/it]Setting `pad_token_id` to `eos_token_id`:128001 for open-end generation.\n",
      " 25%|██▍       | 74/300 [01:37<04:41,  1.25s/it]Setting `pad_token_id` to `eos_token_id`:128001 for open-end generation.\n",
      " 25%|██▌       | 75/300 [01:39<04:47,  1.28s/it]Setting `pad_token_id` to `eos_token_id`:128001 for open-end generation.\n",
      " 25%|██▌       | 76/300 [01:40<04:51,  1.30s/it]Setting `pad_token_id` to `eos_token_id`:128001 for open-end generation.\n",
      " 26%|██▌       | 77/300 [01:41<04:55,  1.32s/it]Setting `pad_token_id` to `eos_token_id`:128001 for open-end generation.\n",
      " 26%|██▌       | 78/300 [01:42<03:51,  1.04s/it]Setting `pad_token_id` to `eos_token_id`:128001 for open-end generation.\n",
      " 26%|██▋       | 79/300 [01:43<04:10,  1.13s/it]Setting `pad_token_id` to `eos_token_id`:128001 for open-end generation.\n",
      " 27%|██▋       | 80/300 [01:44<04:24,  1.20s/it]Setting `pad_token_id` to `eos_token_id`:128001 for open-end generation.\n",
      " 27%|██▋       | 81/300 [01:46<04:34,  1.25s/it]Setting `pad_token_id` to `eos_token_id`:128001 for open-end generation.\n",
      " 27%|██▋       | 82/300 [01:47<04:01,  1.11s/it]Setting `pad_token_id` to `eos_token_id`:128001 for open-end generation.\n",
      " 28%|██▊       | 83/300 [01:48<04:16,  1.18s/it]Setting `pad_token_id` to `eos_token_id`:128001 for open-end generation.\n",
      " 28%|██▊       | 84/300 [01:49<04:26,  1.23s/it]Setting `pad_token_id` to `eos_token_id`:128001 for open-end generation.\n",
      " 28%|██▊       | 85/300 [01:51<04:33,  1.27s/it]Setting `pad_token_id` to `eos_token_id`:128001 for open-end generation.\n",
      " 29%|██▊       | 86/300 [01:52<04:37,  1.30s/it]Setting `pad_token_id` to `eos_token_id`:128001 for open-end generation.\n",
      " 29%|██▉       | 87/300 [01:53<04:41,  1.32s/it]Setting `pad_token_id` to `eos_token_id`:128001 for open-end generation.\n",
      " 29%|██▉       | 88/300 [01:55<04:42,  1.33s/it]Setting `pad_token_id` to `eos_token_id`:128001 for open-end generation.\n",
      " 30%|██▉       | 89/300 [01:56<04:43,  1.34s/it]Setting `pad_token_id` to `eos_token_id`:128001 for open-end generation.\n",
      " 30%|███       | 90/300 [01:57<04:42,  1.35s/it]Setting `pad_token_id` to `eos_token_id`:128001 for open-end generation.\n",
      " 30%|███       | 91/300 [01:59<04:42,  1.35s/it]Setting `pad_token_id` to `eos_token_id`:128001 for open-end generation.\n",
      " 31%|███       | 92/300 [02:00<04:41,  1.35s/it]Setting `pad_token_id` to `eos_token_id`:128001 for open-end generation.\n",
      " 31%|███       | 93/300 [02:01<04:39,  1.35s/it]Setting `pad_token_id` to `eos_token_id`:128001 for open-end generation.\n",
      " 31%|███▏      | 94/300 [02:03<04:39,  1.36s/it]Setting `pad_token_id` to `eos_token_id`:128001 for open-end generation.\n",
      " 32%|███▏      | 95/300 [02:04<04:37,  1.36s/it]Setting `pad_token_id` to `eos_token_id`:128001 for open-end generation.\n",
      " 32%|███▏      | 96/300 [02:06<04:36,  1.36s/it]Setting `pad_token_id` to `eos_token_id`:128001 for open-end generation.\n",
      " 32%|███▏      | 97/300 [02:07<04:34,  1.35s/it]Setting `pad_token_id` to `eos_token_id`:128001 for open-end generation.\n",
      " 33%|███▎      | 98/300 [02:08<04:33,  1.36s/it]Setting `pad_token_id` to `eos_token_id`:128001 for open-end generation.\n",
      " 33%|███▎      | 99/300 [02:10<04:32,  1.36s/it]Setting `pad_token_id` to `eos_token_id`:128001 for open-end generation.\n",
      " 33%|███▎      | 100/300 [02:11<04:31,  1.36s/it]Setting `pad_token_id` to `eos_token_id`:128001 for open-end generation.\n",
      " 34%|███▎      | 101/300 [02:12<04:29,  1.36s/it]Setting `pad_token_id` to `eos_token_id`:128001 for open-end generation.\n",
      " 34%|███▍      | 102/300 [02:14<04:28,  1.36s/it]Setting `pad_token_id` to `eos_token_id`:128001 for open-end generation.\n",
      " 34%|███▍      | 103/300 [02:15<04:27,  1.36s/it]Setting `pad_token_id` to `eos_token_id`:128001 for open-end generation.\n",
      " 35%|███▍      | 104/300 [02:16<04:26,  1.36s/it]Setting `pad_token_id` to `eos_token_id`:128001 for open-end generation.\n",
      " 35%|███▌      | 105/300 [02:18<04:25,  1.36s/it]Setting `pad_token_id` to `eos_token_id`:128001 for open-end generation.\n",
      " 35%|███▌      | 106/300 [02:19<04:23,  1.36s/it]Setting `pad_token_id` to `eos_token_id`:128001 for open-end generation.\n",
      " 36%|███▌      | 107/300 [02:20<04:22,  1.36s/it]Setting `pad_token_id` to `eos_token_id`:128001 for open-end generation.\n",
      " 36%|███▌      | 108/300 [02:22<04:20,  1.36s/it]Setting `pad_token_id` to `eos_token_id`:128001 for open-end generation.\n",
      " 36%|███▋      | 109/300 [02:23<04:08,  1.30s/it]Setting `pad_token_id` to `eos_token_id`:128001 for open-end generation.\n",
      " 37%|███▋      | 110/300 [02:24<04:11,  1.32s/it]Setting `pad_token_id` to `eos_token_id`:128001 for open-end generation.\n",
      " 37%|███▋      | 111/300 [02:26<04:13,  1.34s/it]Setting `pad_token_id` to `eos_token_id`:128001 for open-end generation.\n",
      " 37%|███▋      | 112/300 [02:27<04:12,  1.34s/it]Setting `pad_token_id` to `eos_token_id`:128001 for open-end generation.\n",
      " 38%|███▊      | 113/300 [02:28<04:11,  1.35s/it]Setting `pad_token_id` to `eos_token_id`:128001 for open-end generation.\n",
      " 38%|███▊      | 114/300 [02:30<04:12,  1.35s/it]Setting `pad_token_id` to `eos_token_id`:128001 for open-end generation.\n",
      " 38%|███▊      | 115/300 [02:31<04:10,  1.35s/it]Setting `pad_token_id` to `eos_token_id`:128001 for open-end generation.\n",
      " 39%|███▊      | 116/300 [02:33<04:10,  1.36s/it]Setting `pad_token_id` to `eos_token_id`:128001 for open-end generation.\n",
      " 39%|███▉      | 117/300 [02:34<04:09,  1.36s/it]Setting `pad_token_id` to `eos_token_id`:128001 for open-end generation.\n",
      " 39%|███▉      | 118/300 [02:35<04:07,  1.36s/it]Setting `pad_token_id` to `eos_token_id`:128001 for open-end generation.\n",
      " 40%|███▉      | 119/300 [02:37<04:07,  1.37s/it]Setting `pad_token_id` to `eos_token_id`:128001 for open-end generation.\n",
      " 40%|████      | 120/300 [02:38<04:05,  1.36s/it]Setting `pad_token_id` to `eos_token_id`:128001 for open-end generation.\n",
      " 40%|████      | 121/300 [02:39<04:03,  1.36s/it]Setting `pad_token_id` to `eos_token_id`:128001 for open-end generation.\n",
      " 41%|████      | 122/300 [02:41<04:02,  1.37s/it]Setting `pad_token_id` to `eos_token_id`:128001 for open-end generation.\n",
      " 41%|████      | 123/300 [02:42<04:00,  1.36s/it]Setting `pad_token_id` to `eos_token_id`:128001 for open-end generation.\n",
      " 41%|████▏     | 124/300 [02:43<03:58,  1.36s/it]Setting `pad_token_id` to `eos_token_id`:128001 for open-end generation.\n",
      " 42%|████▏     | 125/300 [02:45<03:58,  1.36s/it]Setting `pad_token_id` to `eos_token_id`:128001 for open-end generation.\n",
      " 42%|████▏     | 126/300 [02:46<03:57,  1.37s/it]Setting `pad_token_id` to `eos_token_id`:128001 for open-end generation.\n",
      " 42%|████▏     | 127/300 [02:48<03:56,  1.36s/it]Setting `pad_token_id` to `eos_token_id`:128001 for open-end generation.\n",
      " 43%|████▎     | 128/300 [02:49<03:55,  1.37s/it]Setting `pad_token_id` to `eos_token_id`:128001 for open-end generation.\n",
      " 43%|████▎     | 129/300 [02:50<03:52,  1.36s/it]Setting `pad_token_id` to `eos_token_id`:128001 for open-end generation.\n",
      " 43%|████▎     | 130/300 [02:52<03:51,  1.36s/it]Setting `pad_token_id` to `eos_token_id`:128001 for open-end generation.\n",
      " 44%|████▎     | 131/300 [02:53<03:51,  1.37s/it]Setting `pad_token_id` to `eos_token_id`:128001 for open-end generation.\n",
      " 44%|████▍     | 132/300 [02:54<03:50,  1.37s/it]Setting `pad_token_id` to `eos_token_id`:128001 for open-end generation.\n",
      " 44%|████▍     | 133/300 [02:56<03:49,  1.37s/it]Setting `pad_token_id` to `eos_token_id`:128001 for open-end generation.\n",
      " 45%|████▍     | 134/300 [02:57<03:47,  1.37s/it]Setting `pad_token_id` to `eos_token_id`:128001 for open-end generation.\n",
      " 45%|████▌     | 135/300 [02:59<03:45,  1.37s/it]Setting `pad_token_id` to `eos_token_id`:128001 for open-end generation.\n",
      " 45%|████▌     | 136/300 [03:00<03:44,  1.37s/it]Setting `pad_token_id` to `eos_token_id`:128001 for open-end generation.\n",
      " 46%|████▌     | 137/300 [03:01<03:43,  1.37s/it]Setting `pad_token_id` to `eos_token_id`:128001 for open-end generation.\n",
      " 46%|████▌     | 138/300 [03:03<03:41,  1.37s/it]Setting `pad_token_id` to `eos_token_id`:128001 for open-end generation.\n",
      " 46%|████▋     | 139/300 [03:04<03:40,  1.37s/it]Setting `pad_token_id` to `eos_token_id`:128001 for open-end generation.\n",
      " 47%|████▋     | 140/300 [03:05<03:39,  1.37s/it]Setting `pad_token_id` to `eos_token_id`:128001 for open-end generation.\n",
      " 47%|████▋     | 141/300 [03:07<03:37,  1.37s/it]Setting `pad_token_id` to `eos_token_id`:128001 for open-end generation.\n",
      " 47%|████▋     | 142/300 [03:08<03:35,  1.36s/it]Setting `pad_token_id` to `eos_token_id`:128001 for open-end generation.\n",
      " 48%|████▊     | 143/300 [03:09<03:34,  1.37s/it]Setting `pad_token_id` to `eos_token_id`:128001 for open-end generation.\n",
      " 48%|████▊     | 144/300 [03:11<03:32,  1.36s/it]Setting `pad_token_id` to `eos_token_id`:128001 for open-end generation.\n",
      " 48%|████▊     | 145/300 [03:12<03:30,  1.36s/it]Setting `pad_token_id` to `eos_token_id`:128001 for open-end generation.\n",
      " 49%|████▊     | 146/300 [03:14<03:29,  1.36s/it]Setting `pad_token_id` to `eos_token_id`:128001 for open-end generation.\n",
      " 49%|████▉     | 147/300 [03:15<03:28,  1.36s/it]Setting `pad_token_id` to `eos_token_id`:128001 for open-end generation.\n",
      " 49%|████▉     | 148/300 [03:16<03:26,  1.36s/it]Setting `pad_token_id` to `eos_token_id`:128001 for open-end generation.\n",
      " 50%|████▉     | 149/300 [03:18<03:26,  1.37s/it]Setting `pad_token_id` to `eos_token_id`:128001 for open-end generation.\n",
      " 50%|█████     | 150/300 [03:19<03:25,  1.37s/it]Setting `pad_token_id` to `eos_token_id`:128001 for open-end generation.\n",
      " 50%|█████     | 151/300 [03:20<03:23,  1.37s/it]Setting `pad_token_id` to `eos_token_id`:128001 for open-end generation.\n",
      " 51%|█████     | 152/300 [03:22<03:21,  1.36s/it]Setting `pad_token_id` to `eos_token_id`:128001 for open-end generation.\n",
      " 51%|█████     | 153/300 [03:23<03:19,  1.36s/it]Setting `pad_token_id` to `eos_token_id`:128001 for open-end generation.\n",
      " 51%|█████▏    | 154/300 [03:24<03:18,  1.36s/it]Setting `pad_token_id` to `eos_token_id`:128001 for open-end generation.\n",
      " 52%|█████▏    | 155/300 [03:26<03:17,  1.36s/it]Setting `pad_token_id` to `eos_token_id`:128001 for open-end generation.\n",
      " 52%|█████▏    | 156/300 [03:27<03:15,  1.36s/it]Setting `pad_token_id` to `eos_token_id`:128001 for open-end generation.\n",
      " 52%|█████▏    | 157/300 [03:29<03:14,  1.36s/it]Setting `pad_token_id` to `eos_token_id`:128001 for open-end generation.\n",
      " 53%|█████▎    | 158/300 [03:30<03:12,  1.36s/it]Setting `pad_token_id` to `eos_token_id`:128001 for open-end generation.\n",
      " 53%|█████▎    | 159/300 [03:31<03:11,  1.36s/it]Setting `pad_token_id` to `eos_token_id`:128001 for open-end generation.\n",
      " 53%|█████▎    | 160/300 [03:33<03:11,  1.36s/it]Setting `pad_token_id` to `eos_token_id`:128001 for open-end generation.\n",
      " 54%|█████▎    | 161/300 [03:34<03:10,  1.37s/it]Setting `pad_token_id` to `eos_token_id`:128001 for open-end generation.\n",
      " 54%|█████▍    | 162/300 [03:35<03:09,  1.37s/it]Setting `pad_token_id` to `eos_token_id`:128001 for open-end generation.\n",
      " 54%|█████▍    | 163/300 [03:37<03:06,  1.36s/it]Setting `pad_token_id` to `eos_token_id`:128001 for open-end generation.\n",
      " 55%|█████▍    | 164/300 [03:38<03:05,  1.36s/it]Setting `pad_token_id` to `eos_token_id`:128001 for open-end generation.\n",
      " 55%|█████▌    | 165/300 [03:39<03:03,  1.36s/it]Setting `pad_token_id` to `eos_token_id`:128001 for open-end generation.\n",
      " 55%|█████▌    | 166/300 [03:40<02:43,  1.22s/it]Setting `pad_token_id` to `eos_token_id`:128001 for open-end generation.\n",
      " 56%|█████▌    | 167/300 [03:42<02:47,  1.26s/it]Setting `pad_token_id` to `eos_token_id`:128001 for open-end generation.\n",
      " 56%|█████▌    | 168/300 [03:43<02:50,  1.29s/it]Setting `pad_token_id` to `eos_token_id`:128001 for open-end generation.\n",
      " 56%|█████▋    | 169/300 [03:44<02:52,  1.31s/it]Setting `pad_token_id` to `eos_token_id`:128001 for open-end generation.\n",
      " 57%|█████▋    | 170/300 [03:46<02:52,  1.33s/it]Setting `pad_token_id` to `eos_token_id`:128001 for open-end generation.\n",
      " 57%|█████▋    | 171/300 [03:47<02:52,  1.34s/it]Setting `pad_token_id` to `eos_token_id`:128001 for open-end generation.\n",
      " 57%|█████▋    | 172/300 [03:49<02:52,  1.35s/it]Setting `pad_token_id` to `eos_token_id`:128001 for open-end generation.\n",
      " 58%|█████▊    | 173/300 [03:50<02:51,  1.35s/it]Setting `pad_token_id` to `eos_token_id`:128001 for open-end generation.\n",
      " 58%|█████▊    | 174/300 [03:51<02:50,  1.35s/it]Setting `pad_token_id` to `eos_token_id`:128001 for open-end generation.\n",
      " 58%|█████▊    | 175/300 [03:53<02:50,  1.36s/it]Setting `pad_token_id` to `eos_token_id`:128001 for open-end generation.\n",
      " 59%|█████▊    | 176/300 [03:54<02:48,  1.36s/it]Setting `pad_token_id` to `eos_token_id`:128001 for open-end generation.\n",
      " 59%|█████▉    | 177/300 [03:55<02:48,  1.37s/it]Setting `pad_token_id` to `eos_token_id`:128001 for open-end generation.\n",
      " 59%|█████▉    | 178/300 [03:57<02:46,  1.36s/it]Setting `pad_token_id` to `eos_token_id`:128001 for open-end generation.\n",
      " 60%|█████▉    | 179/300 [03:58<02:45,  1.37s/it]Setting `pad_token_id` to `eos_token_id`:128001 for open-end generation.\n",
      " 60%|██████    | 180/300 [03:59<02:44,  1.37s/it]Setting `pad_token_id` to `eos_token_id`:128001 for open-end generation.\n",
      " 60%|██████    | 181/300 [04:01<02:43,  1.37s/it]Setting `pad_token_id` to `eos_token_id`:128001 for open-end generation.\n",
      " 61%|██████    | 182/300 [04:02<02:41,  1.37s/it]Setting `pad_token_id` to `eos_token_id`:128001 for open-end generation.\n",
      " 61%|██████    | 183/300 [04:04<02:40,  1.37s/it]Setting `pad_token_id` to `eos_token_id`:128001 for open-end generation.\n",
      " 61%|██████▏   | 184/300 [04:05<02:38,  1.37s/it]Setting `pad_token_id` to `eos_token_id`:128001 for open-end generation.\n",
      " 62%|██████▏   | 185/300 [04:06<02:37,  1.37s/it]Setting `pad_token_id` to `eos_token_id`:128001 for open-end generation.\n",
      " 62%|██████▏   | 186/300 [04:08<02:36,  1.37s/it]Setting `pad_token_id` to `eos_token_id`:128001 for open-end generation.\n",
      " 62%|██████▏   | 187/300 [04:09<02:35,  1.37s/it]Setting `pad_token_id` to `eos_token_id`:128001 for open-end generation.\n",
      " 63%|██████▎   | 188/300 [04:10<02:33,  1.37s/it]Setting `pad_token_id` to `eos_token_id`:128001 for open-end generation.\n",
      " 63%|██████▎   | 189/300 [04:11<01:53,  1.02s/it]Setting `pad_token_id` to `eos_token_id`:128001 for open-end generation.\n",
      " 63%|██████▎   | 190/300 [04:12<02:03,  1.12s/it]Setting `pad_token_id` to `eos_token_id`:128001 for open-end generation.\n",
      " 64%|██████▎   | 191/300 [04:13<02:10,  1.20s/it]Setting `pad_token_id` to `eos_token_id`:128001 for open-end generation.\n",
      " 64%|██████▍   | 192/300 [04:15<02:15,  1.26s/it]Setting `pad_token_id` to `eos_token_id`:128001 for open-end generation.\n",
      " 64%|██████▍   | 193/300 [04:16<02:17,  1.29s/it]Setting `pad_token_id` to `eos_token_id`:128001 for open-end generation.\n",
      " 65%|██████▍   | 194/300 [04:18<02:19,  1.32s/it]Setting `pad_token_id` to `eos_token_id`:128001 for open-end generation.\n",
      " 65%|██████▌   | 195/300 [04:18<01:56,  1.11s/it]Setting `pad_token_id` to `eos_token_id`:128001 for open-end generation.\n",
      " 65%|██████▌   | 196/300 [04:20<02:03,  1.19s/it]Setting `pad_token_id` to `eos_token_id`:128001 for open-end generation.\n",
      " 66%|██████▌   | 197/300 [04:21<02:07,  1.24s/it]Setting `pad_token_id` to `eos_token_id`:128001 for open-end generation.\n",
      " 66%|██████▌   | 198/300 [04:22<02:10,  1.28s/it]Setting `pad_token_id` to `eos_token_id`:128001 for open-end generation.\n",
      " 66%|██████▋   | 199/300 [04:24<02:12,  1.31s/it]Setting `pad_token_id` to `eos_token_id`:128001 for open-end generation.\n",
      " 67%|██████▋   | 200/300 [04:25<02:13,  1.33s/it]Setting `pad_token_id` to `eos_token_id`:128001 for open-end generation.\n",
      " 67%|██████▋   | 201/300 [04:26<02:12,  1.34s/it]Setting `pad_token_id` to `eos_token_id`:128001 for open-end generation.\n",
      " 67%|██████▋   | 202/300 [04:28<02:12,  1.35s/it]Setting `pad_token_id` to `eos_token_id`:128001 for open-end generation.\n",
      " 68%|██████▊   | 203/300 [04:29<02:11,  1.35s/it]Setting `pad_token_id` to `eos_token_id`:128001 for open-end generation.\n",
      " 68%|██████▊   | 204/300 [04:30<01:52,  1.17s/it]Setting `pad_token_id` to `eos_token_id`:128001 for open-end generation.\n",
      " 68%|██████▊   | 205/300 [04:31<01:57,  1.23s/it]Setting `pad_token_id` to `eos_token_id`:128001 for open-end generation.\n",
      " 69%|██████▊   | 206/300 [04:33<01:59,  1.27s/it]Setting `pad_token_id` to `eos_token_id`:128001 for open-end generation.\n",
      " 69%|██████▉   | 207/300 [04:34<02:01,  1.31s/it]Setting `pad_token_id` to `eos_token_id`:128001 for open-end generation.\n",
      " 69%|██████▉   | 208/300 [04:35<02:01,  1.32s/it]Setting `pad_token_id` to `eos_token_id`:128001 for open-end generation.\n",
      " 70%|██████▉   | 209/300 [04:37<02:01,  1.34s/it]Setting `pad_token_id` to `eos_token_id`:128001 for open-end generation.\n",
      " 70%|███████   | 210/300 [04:38<02:01,  1.35s/it]Setting `pad_token_id` to `eos_token_id`:128001 for open-end generation.\n",
      " 70%|███████   | 211/300 [04:39<01:59,  1.35s/it]Setting `pad_token_id` to `eos_token_id`:128001 for open-end generation.\n",
      " 71%|███████   | 212/300 [04:41<01:58,  1.35s/it]Setting `pad_token_id` to `eos_token_id`:128001 for open-end generation.\n",
      " 71%|███████   | 213/300 [04:42<01:57,  1.35s/it]Setting `pad_token_id` to `eos_token_id`:128001 for open-end generation.\n",
      " 71%|███████▏  | 214/300 [04:43<01:35,  1.11s/it]Setting `pad_token_id` to `eos_token_id`:128001 for open-end generation.\n",
      " 72%|███████▏  | 215/300 [04:44<01:41,  1.19s/it]Setting `pad_token_id` to `eos_token_id`:128001 for open-end generation.\n",
      " 72%|███████▏  | 216/300 [04:45<01:43,  1.24s/it]Setting `pad_token_id` to `eos_token_id`:128001 for open-end generation.\n",
      " 72%|███████▏  | 217/300 [04:47<01:45,  1.27s/it]Setting `pad_token_id` to `eos_token_id`:128001 for open-end generation.\n",
      " 73%|███████▎  | 218/300 [04:48<01:46,  1.30s/it]Setting `pad_token_id` to `eos_token_id`:128001 for open-end generation.\n",
      " 73%|███████▎  | 219/300 [04:49<01:47,  1.32s/it]Setting `pad_token_id` to `eos_token_id`:128001 for open-end generation.\n",
      " 73%|███████▎  | 220/300 [04:51<01:46,  1.33s/it]Setting `pad_token_id` to `eos_token_id`:128001 for open-end generation.\n",
      " 74%|███████▎  | 221/300 [04:52<01:45,  1.34s/it]Setting `pad_token_id` to `eos_token_id`:128001 for open-end generation.\n",
      " 74%|███████▍  | 222/300 [04:54<01:44,  1.34s/it]Setting `pad_token_id` to `eos_token_id`:128001 for open-end generation.\n",
      " 74%|███████▍  | 223/300 [04:55<01:44,  1.35s/it]Setting `pad_token_id` to `eos_token_id`:128001 for open-end generation.\n",
      " 75%|███████▍  | 224/300 [04:56<01:43,  1.36s/it]Setting `pad_token_id` to `eos_token_id`:128001 for open-end generation.\n",
      " 75%|███████▌  | 225/300 [04:58<01:41,  1.36s/it]Setting `pad_token_id` to `eos_token_id`:128001 for open-end generation.\n",
      " 75%|███████▌  | 226/300 [04:59<01:40,  1.36s/it]Setting `pad_token_id` to `eos_token_id`:128001 for open-end generation.\n",
      " 76%|███████▌  | 227/300 [05:00<01:39,  1.36s/it]Setting `pad_token_id` to `eos_token_id`:128001 for open-end generation.\n",
      " 76%|███████▌  | 228/300 [05:02<01:38,  1.37s/it]Setting `pad_token_id` to `eos_token_id`:128001 for open-end generation.\n",
      " 76%|███████▋  | 229/300 [05:03<01:36,  1.36s/it]Setting `pad_token_id` to `eos_token_id`:128001 for open-end generation.\n",
      " 77%|███████▋  | 230/300 [05:04<01:35,  1.36s/it]Setting `pad_token_id` to `eos_token_id`:128001 for open-end generation.\n",
      " 77%|███████▋  | 231/300 [05:06<01:34,  1.36s/it]Setting `pad_token_id` to `eos_token_id`:128001 for open-end generation.\n",
      " 77%|███████▋  | 232/300 [05:07<01:33,  1.37s/it]Setting `pad_token_id` to `eos_token_id`:128001 for open-end generation.\n",
      " 78%|███████▊  | 233/300 [05:09<01:31,  1.37s/it]Setting `pad_token_id` to `eos_token_id`:128001 for open-end generation.\n",
      " 78%|███████▊  | 234/300 [05:10<01:30,  1.36s/it]Setting `pad_token_id` to `eos_token_id`:128001 for open-end generation.\n",
      " 78%|███████▊  | 235/300 [05:11<01:28,  1.36s/it]Setting `pad_token_id` to `eos_token_id`:128001 for open-end generation.\n",
      " 79%|███████▊  | 236/300 [05:13<01:27,  1.36s/it]Setting `pad_token_id` to `eos_token_id`:128001 for open-end generation.\n",
      " 79%|███████▉  | 237/300 [05:14<01:25,  1.36s/it]Setting `pad_token_id` to `eos_token_id`:128001 for open-end generation.\n",
      " 79%|███████▉  | 238/300 [05:15<01:20,  1.30s/it]Setting `pad_token_id` to `eos_token_id`:128001 for open-end generation.\n",
      " 80%|███████▉  | 239/300 [05:17<01:20,  1.32s/it]Setting `pad_token_id` to `eos_token_id`:128001 for open-end generation.\n",
      " 80%|████████  | 240/300 [05:18<01:20,  1.34s/it]Setting `pad_token_id` to `eos_token_id`:128001 for open-end generation.\n",
      " 80%|████████  | 241/300 [05:19<01:19,  1.35s/it]Setting `pad_token_id` to `eos_token_id`:128001 for open-end generation.\n",
      " 81%|████████  | 242/300 [05:21<01:18,  1.36s/it]Setting `pad_token_id` to `eos_token_id`:128001 for open-end generation.\n",
      " 81%|████████  | 243/300 [05:22<01:17,  1.36s/it]Setting `pad_token_id` to `eos_token_id`:128001 for open-end generation.\n",
      " 81%|████████▏ | 244/300 [05:23<01:16,  1.36s/it]Setting `pad_token_id` to `eos_token_id`:128001 for open-end generation.\n",
      " 82%|████████▏ | 245/300 [05:25<01:15,  1.38s/it]Setting `pad_token_id` to `eos_token_id`:128001 for open-end generation.\n",
      " 82%|████████▏ | 246/300 [05:26<01:14,  1.38s/it]Setting `pad_token_id` to `eos_token_id`:128001 for open-end generation.\n",
      " 82%|████████▏ | 247/300 [05:27<01:09,  1.31s/it]Setting `pad_token_id` to `eos_token_id`:128001 for open-end generation.\n",
      " 83%|████████▎ | 248/300 [05:29<01:08,  1.33s/it]Setting `pad_token_id` to `eos_token_id`:128001 for open-end generation.\n",
      " 83%|████████▎ | 249/300 [05:30<01:08,  1.34s/it]Setting `pad_token_id` to `eos_token_id`:128001 for open-end generation.\n",
      " 83%|████████▎ | 250/300 [05:32<01:07,  1.35s/it]Setting `pad_token_id` to `eos_token_id`:128001 for open-end generation.\n",
      " 84%|████████▎ | 251/300 [05:33<01:06,  1.36s/it]Setting `pad_token_id` to `eos_token_id`:128001 for open-end generation.\n",
      " 84%|████████▍ | 252/300 [05:34<01:05,  1.36s/it]Setting `pad_token_id` to `eos_token_id`:128001 for open-end generation.\n",
      " 84%|████████▍ | 253/300 [05:36<01:04,  1.36s/it]Setting `pad_token_id` to `eos_token_id`:128001 for open-end generation.\n",
      " 85%|████████▍ | 254/300 [05:37<01:03,  1.37s/it]Setting `pad_token_id` to `eos_token_id`:128001 for open-end generation.\n",
      " 85%|████████▌ | 255/300 [05:38<01:01,  1.37s/it]Setting `pad_token_id` to `eos_token_id`:128001 for open-end generation.\n",
      " 85%|████████▌ | 256/300 [05:40<01:00,  1.37s/it]Setting `pad_token_id` to `eos_token_id`:128001 for open-end generation.\n",
      " 86%|████████▌ | 257/300 [05:41<00:58,  1.37s/it]Setting `pad_token_id` to `eos_token_id`:128001 for open-end generation.\n",
      " 86%|████████▌ | 258/300 [05:42<00:57,  1.37s/it]Setting `pad_token_id` to `eos_token_id`:128001 for open-end generation.\n",
      " 86%|████████▋ | 259/300 [05:44<00:56,  1.37s/it]Setting `pad_token_id` to `eos_token_id`:128001 for open-end generation.\n",
      " 87%|████████▋ | 260/300 [05:45<00:54,  1.37s/it]Setting `pad_token_id` to `eos_token_id`:128001 for open-end generation.\n",
      " 87%|████████▋ | 261/300 [05:47<00:53,  1.37s/it]Setting `pad_token_id` to `eos_token_id`:128001 for open-end generation.\n",
      " 87%|████████▋ | 262/300 [05:48<00:52,  1.37s/it]Setting `pad_token_id` to `eos_token_id`:128001 for open-end generation.\n",
      " 88%|████████▊ | 263/300 [05:49<00:50,  1.37s/it]Setting `pad_token_id` to `eos_token_id`:128001 for open-end generation.\n",
      " 88%|████████▊ | 264/300 [05:51<00:49,  1.37s/it]Setting `pad_token_id` to `eos_token_id`:128001 for open-end generation.\n",
      " 88%|████████▊ | 265/300 [05:52<00:48,  1.38s/it]Setting `pad_token_id` to `eos_token_id`:128001 for open-end generation.\n",
      " 89%|████████▊ | 266/300 [05:53<00:46,  1.37s/it]Setting `pad_token_id` to `eos_token_id`:128001 for open-end generation.\n",
      " 89%|████████▉ | 267/300 [05:55<00:45,  1.37s/it]Setting `pad_token_id` to `eos_token_id`:128001 for open-end generation.\n",
      " 89%|████████▉ | 268/300 [05:56<00:43,  1.37s/it]Setting `pad_token_id` to `eos_token_id`:128001 for open-end generation.\n",
      " 90%|████████▉ | 269/300 [05:58<00:42,  1.37s/it]Setting `pad_token_id` to `eos_token_id`:128001 for open-end generation.\n",
      " 90%|█████████ | 270/300 [05:59<00:41,  1.37s/it]Setting `pad_token_id` to `eos_token_id`:128001 for open-end generation.\n",
      " 90%|█████████ | 271/300 [06:00<00:39,  1.36s/it]Setting `pad_token_id` to `eos_token_id`:128001 for open-end generation.\n",
      " 91%|█████████ | 272/300 [06:02<00:38,  1.36s/it]Setting `pad_token_id` to `eos_token_id`:128001 for open-end generation.\n",
      " 91%|█████████ | 273/300 [06:03<00:36,  1.36s/it]Setting `pad_token_id` to `eos_token_id`:128001 for open-end generation.\n",
      " 91%|█████████▏| 274/300 [06:04<00:35,  1.36s/it]Setting `pad_token_id` to `eos_token_id`:128001 for open-end generation.\n",
      " 92%|█████████▏| 275/300 [06:06<00:33,  1.36s/it]Setting `pad_token_id` to `eos_token_id`:128001 for open-end generation.\n",
      " 92%|█████████▏| 276/300 [06:07<00:32,  1.36s/it]Setting `pad_token_id` to `eos_token_id`:128001 for open-end generation.\n",
      " 92%|█████████▏| 277/300 [06:08<00:31,  1.36s/it]Setting `pad_token_id` to `eos_token_id`:128001 for open-end generation.\n",
      " 93%|█████████▎| 278/300 [06:10<00:29,  1.36s/it]Setting `pad_token_id` to `eos_token_id`:128001 for open-end generation.\n",
      " 93%|█████████▎| 279/300 [06:11<00:28,  1.37s/it]Setting `pad_token_id` to `eos_token_id`:128001 for open-end generation.\n",
      " 93%|█████████▎| 280/300 [06:13<00:27,  1.37s/it]Setting `pad_token_id` to `eos_token_id`:128001 for open-end generation.\n",
      " 94%|█████████▎| 281/300 [06:14<00:25,  1.37s/it]Setting `pad_token_id` to `eos_token_id`:128001 for open-end generation.\n",
      " 94%|█████████▍| 282/300 [06:15<00:24,  1.37s/it]Setting `pad_token_id` to `eos_token_id`:128001 for open-end generation.\n",
      " 94%|█████████▍| 283/300 [06:17<00:23,  1.37s/it]Setting `pad_token_id` to `eos_token_id`:128001 for open-end generation.\n",
      " 95%|█████████▍| 284/300 [06:18<00:21,  1.36s/it]Setting `pad_token_id` to `eos_token_id`:128001 for open-end generation.\n",
      " 95%|█████████▌| 285/300 [06:19<00:20,  1.37s/it]Setting `pad_token_id` to `eos_token_id`:128001 for open-end generation.\n",
      " 95%|█████████▌| 286/300 [06:21<00:19,  1.36s/it]Setting `pad_token_id` to `eos_token_id`:128001 for open-end generation.\n",
      " 96%|█████████▌| 287/300 [06:22<00:17,  1.37s/it]Setting `pad_token_id` to `eos_token_id`:128001 for open-end generation.\n",
      " 96%|█████████▌| 288/300 [06:23<00:16,  1.37s/it]Setting `pad_token_id` to `eos_token_id`:128001 for open-end generation.\n",
      " 96%|█████████▋| 289/300 [06:25<00:15,  1.37s/it]Setting `pad_token_id` to `eos_token_id`:128001 for open-end generation.\n",
      " 97%|█████████▋| 290/300 [06:26<00:13,  1.37s/it]Setting `pad_token_id` to `eos_token_id`:128001 for open-end generation.\n",
      " 97%|█████████▋| 291/300 [06:28<00:12,  1.37s/it]Setting `pad_token_id` to `eos_token_id`:128001 for open-end generation.\n",
      " 97%|█████████▋| 292/300 [06:29<00:10,  1.37s/it]Setting `pad_token_id` to `eos_token_id`:128001 for open-end generation.\n",
      " 98%|█████████▊| 293/300 [06:30<00:09,  1.36s/it]Setting `pad_token_id` to `eos_token_id`:128001 for open-end generation.\n",
      " 98%|█████████▊| 294/300 [06:32<00:08,  1.37s/it]Setting `pad_token_id` to `eos_token_id`:128001 for open-end generation.\n",
      " 98%|█████████▊| 295/300 [06:33<00:06,  1.36s/it]Setting `pad_token_id` to `eos_token_id`:128001 for open-end generation.\n",
      " 99%|█████████▊| 296/300 [06:34<00:05,  1.36s/it]Setting `pad_token_id` to `eos_token_id`:128001 for open-end generation.\n",
      " 99%|█████████▉| 297/300 [06:36<00:04,  1.37s/it]Setting `pad_token_id` to `eos_token_id`:128001 for open-end generation.\n",
      " 99%|█████████▉| 298/300 [06:37<00:02,  1.36s/it]Setting `pad_token_id` to `eos_token_id`:128001 for open-end generation.\n",
      "100%|█████████▉| 299/300 [06:38<00:01,  1.37s/it]Setting `pad_token_id` to `eos_token_id`:128001 for open-end generation.\n",
      "100%|██████████| 300/300 [06:40<00:00,  1.37s/it]Setting `pad_token_id` to `eos_token_id`:128001 for open-end generation.\n",
      "301it [06:41,  1.33s/it]                         \n"
     ]
    },
    {
     "data": {
      "text/plain": [
       "0.9988970992516916"
      ]
     },
     "execution_count": 255,
     "metadata": {},
     "output_type": "execute_result"
    }
   ],
   "source": [
    "model.eval()\n",
    "model.cuda()\n",
    "\n",
    "gen_config = GenerationConfig(\n",
    "output_hidden_states=True, output_logits=True, return_dict_in_generate=True\n",
    ")\n",
    "jsd = JSD()\n",
    "kl = torch.nn.KLDivLoss(reduction='batchmean', log_target=True)\n",
    "\n",
    "ndcg_scores = []\n",
    "with torch.no_grad():\n",
    "    for name, module in model.named_modules():\n",
    "        if isinstance(module, torch.nn.Embedding):            \n",
    "            embb = module\n",
    "    emb_weight = embb.weight.clone().detach()\n",
    "\n",
    "    js_divs, kl_divs = [], []\n",
    "    maxx = 300\n",
    "    for i, b in tqdm(enumerate(val_dataloader), total=maxx) :\n",
    "        if i > maxx: break\n",
    "\n",
    "        curr_text = b['text'][0]\n",
    "        curr_text = curr_text[:min(len(curr_text), 512) // 2]\n",
    "        inputs = tokenizer(curr_text, return_tensors=\"pt\")\n",
    "        outputs = model.generate(input_ids=inputs['input_ids'].cuda(), attention_mask=inputs['attention_mask'].cuda(), generation_config=gen_config, max_new_tokens=20)\n",
    "\n",
    "        logits = torch.stack(outputs.logits).squeeze() # (new_toks, vocab_size)\n",
    "        if logits.dim() == 1:\n",
    "            logits = logits[None, :]\n",
    "\n",
    "        # logits = torch.so\n",
    "        # ftmax(logits, dim=-1)\n",
    "\n",
    "        last_hidden = torch.stack([outputs.hidden_states[0][-1][0, -1]] + [h[-1][0, 0] for  h in outputs.hidden_states[1:]]) # (new_toks, hidden_size)\n",
    "        last_hidden = last_hidden\n",
    "\n",
    "        kkn_logits = torch.cdist(last_hidden, emb_weight, compute_mode='use_mm_for_euclid_dist') # (new_toks, vocab_size)\n",
    "        # kkn_logits = 1.0 / (kkn_logits + 1e-8)\n",
    "        # js_div = jsd(kkn_logits, logits).cpu().item()\n",
    "        # kl_div = kl(kkn_logits, logits).cpu().item()\n",
    "        # js_divs.append(js_div)\n",
    "        # kl_divs.append(kl_div)\n",
    "        ndcg_scores += [ndcg_score(torch.softmax(logits, -1).cpu().numpy(), torch.softmax(1 / (kkn_logits + 1e-6), -1).cpu().numpy())]\n",
    "\n",
    "np.mean(ndcg_scores)"
   ]
  },
  {
   "cell_type": "code",
   "execution_count": null,
   "id": "b7611bdc",
   "metadata": {},
   "outputs": [],
   "source": [
    "# 0.9988970992516916 = ndcg"
   ]
  },
  {
   "cell_type": "code",
   "execution_count": 254,
   "id": "e90682bd",
   "metadata": {},
   "outputs": [
    {
     "data": {
      "text/plain": [
       "torch.Size([1, 128256])"
      ]
     },
     "execution_count": 254,
     "metadata": {},
     "output_type": "execute_result"
    }
   ],
   "source": [
    "logits[None, :].shape"
   ]
  },
  {
   "cell_type": "code",
   "execution_count": 247,
   "id": "2ef8d1b3",
   "metadata": {},
   "outputs": [
    {
     "data": {
      "text/plain": [
       "torch.Size([1, 128256])"
      ]
     },
     "execution_count": 247,
     "metadata": {},
     "output_type": "execute_result"
    }
   ],
   "source": [
    "kkn_logits.shape"
   ]
  },
  {
   "cell_type": "code",
   "execution_count": null,
   "id": "be186163",
   "metadata": {},
   "outputs": [],
   "source": []
  },
  {
   "cell_type": "code",
   "execution_count": null,
   "id": "43e736ab",
   "metadata": {},
   "outputs": [],
   "source": []
  },
  {
   "cell_type": "code",
   "execution_count": null,
   "id": "52cd8244",
   "metadata": {},
   "outputs": [],
   "source": []
  },
  {
   "cell_type": "code",
   "execution_count": 329,
   "id": "7d7d420b",
   "metadata": {},
   "outputs": [
    {
     "data": {
      "application/vnd.jupyter.widget-view+json": {
       "model_id": "744b8663b5c546cda77148711cd92d3b",
       "version_major": 2,
       "version_minor": 0
      },
      "text/plain": [
       "VBox(children=(HBox(children=(Button(description='Животные', layout=Layout(height='50px', overflow='auto', wid…"
      ]
     },
     "metadata": {},
     "output_type": "display_data"
    }
   ],
   "source": [
    "import ipywidgets as widgets\n",
    "from IPython.display import display\n",
    "\n",
    "class ExpandableBlocks:\n",
    "    def __init__(self, top_words, dropdown_words, min_width='80px'):\n",
    "        # Устанавливаем значения по умолчанию, если не предоставлены\n",
    "        self.top_words = top_words \n",
    "        self.dropdown_words = dropdown_words \n",
    "        self.min_width = min_width\n",
    "        \n",
    "        # Проверяем, что для каждого верхнего слова есть список выпадающих слов\n",
    "        for i in range(len(self.top_words)):\n",
    "            if i not in self.dropdown_words:\n",
    "                self.dropdown_words[i] = []\n",
    "        \n",
    "        # Создаем виджеты-кнопки для верхней строки\n",
    "        self.top_buttons = []\n",
    "        for i, word in enumerate(self.top_words):\n",
    "            # Единый стиль для всех блоков (убрали розовую заливку)\n",
    "            button = widgets.Button(\n",
    "                description=word, \n",
    "                tooltip=word,  # Подсказка при наведении для длинных текстов\n",
    "                style={'button_color': '#eeeeee'}, \n",
    "                layout=widgets.Layout(\n",
    "                    width=self.min_width, \n",
    "                    height='50px',\n",
    "                    overflow='auto',  # Скрываем выходящий за границы текст\n",
    "                    text_overflow='ellipsis',  # Добавляем многоточие\n",
    "                    white_space='wrap'  # Запрещаем перенос строк\n",
    "                )\n",
    "            )\n",
    "            self.top_buttons.append(button)\n",
    "        \n",
    "        # Контейнер для верхних кнопок\n",
    "        self.top_container = widgets.HBox(\n",
    "            self.top_buttons, \n",
    "            layout=widgets.Layout(justify_content='center', align_items='flex-start')\n",
    "        )\n",
    "        \n",
    "        # Создаем контейнеры для выпадающих блоков (по одному для каждой кнопки)\n",
    "        self.expanded_containers = []\n",
    "        for _ in range(len(self.top_words)):\n",
    "            container = widgets.VBox(\n",
    "                [], \n",
    "                layout=widgets.Layout(width=self.min_width, align_items='center')\n",
    "            )\n",
    "            self.expanded_containers.append(container)\n",
    "        \n",
    "        # Контейнер для дополнительных блоков с соответствующим количеством колонок\n",
    "        self.dropdown_container = widgets.HBox(\n",
    "            self.expanded_containers,\n",
    "            layout=widgets.Layout(justify_content='center', align_items='flex-start')\n",
    "        )\n",
    "        \n",
    "        # Назначаем обработчики событий для кнопок\n",
    "        for i, button in enumerate(self.top_buttons):\n",
    "            button.on_click(lambda b, idx=i: self.show_expanded(idx))\n",
    "        \n",
    "        # Основной контейнер\n",
    "        self.main_container = widgets.VBox(\n",
    "            [self.top_container, self.dropdown_container],\n",
    "            layout=widgets.Layout(align_items='center')\n",
    "        )\n",
    "        \n",
    "        # Для отслеживания текущего активного блока\n",
    "        self.active_index = None\n",
    "        \n",
    "    def show_expanded(self, index):\n",
    "        \"\"\"Показать выпадающие блоки для выбранного индекса.\"\"\"\n",
    "        # Очищаем все контейнеры\n",
    "        for container in self.expanded_containers:container.children = ()\n",
    "        \n",
    "        # Если нажали на уже активный блок, просто скрываем его\n",
    "        if self.active_index == index:\n",
    "            self.active_index = None\n",
    "            return\n",
    "        \n",
    "        # Обновляем активный индекс\n",
    "        self.active_index = index\n",
    "        \n",
    "        # Получаем список слов для данного индекса\n",
    "        texts = self.dropdown_words.get(index, [])\n",
    "        \n",
    "        # Создаем новые дополнительные блоки только для выбранной колонки\n",
    "        expanded_buttons = []\n",
    "        for text in texts:\n",
    "            btn = widgets.Button(\n",
    "                description=text,\n",
    "                tooltip=text,  # Подсказка при наведении для длинных текстов\n",
    "                style={'button_color': 'white'},\n",
    "                layout=widgets.Layout(\n",
    "                    width=self.min_width,\n",
    "                    min_width=self.min_width,\n",
    "                    height='20px',\n",
    "                    margin='5px 0px',\n",
    "                    overflow='auto',\n",
    "                    # text_overflow='ellipsis',\n",
    "                    # white_space='nowrap'\n",
    "                )\n",
    "            )\n",
    "            expanded_buttons.append(btn)\n",
    "        \n",
    "        # Помещаем дополнительные блоки в соответствующий контейнер\n",
    "        self.expanded_containers[index].children = expanded_buttons\n",
    "    \n",
    "    def display(self):\n",
    "        \"\"\"Отобразить виджет.\"\"\"\n",
    "        display(self.main_container)\n",
    "\n",
    "\n",
    "# Пример с пользовательскими словами, включая длинные названия\n",
    "custom_top_words = [\"Животные\", \"Растения\", \"Минералы\", \"Стихии\"]\n",
    "custom_dropdown_words = {\n",
    "    0: [\"Кошка\", \"Собака\", \"Лошадь\"],\n",
    "    1: [\"Дуб\", \"Береза\", \"Роза\", \"Тюльпан\"],\n",
    "    2: [\"Кварц\", \"Алмаз\", \"Золото\"],\n",
    "    3: []\n",
    "}\n",
    "\n",
    "# Создаем экземпляр с пользовательскими настройками\n",
    "app = ExpandableBlocks(\n",
    "    top_words=custom_top_words, \n",
    "    dropdown_words=custom_dropdown_words,\n",
    "    min_width='150px'  # Увеличиваем ширину для более длинных слов\n",
    ")\n",
    "app.display()\n"
   ]
  },
  {
   "cell_type": "code",
   "execution_count": 336,
   "id": "7a97f9cd",
   "metadata": {},
   "outputs": [
    {
     "name": "stderr",
     "output_type": "stream",
     "text": [
      "Setting `pad_token_id` to `eos_token_id`:128001 for open-end generation.\n"
     ]
    }
   ],
   "source": [
    "text = 'I have a pen and '\n",
    "TOP_K = 2\n",
    "\n",
    "model.eval()\n",
    "inputs = tokenizer(text, return_tensors=\"pt\")\n",
    "outputs = model.generate(input_ids=inputs['input_ids'].cuda(), attention_mask=inputs['attention_mask'].cuda(), generation_config=gen_config, max_new_tokens=1)\n",
    "\n",
    "for name, module in model.named_modules():\n",
    "    if isinstance(module, torch.nn.Embedding):            \n",
    "        embb = module\n",
    "emb_weight = embb.weight.clone().detach()\n",
    "\n",
    "\n",
    "tok_text = tokenizer.tokenize(text)\n",
    "\n",
    "hiddens = torch.stack(outputs.hidden_states[0])[:, 0, 1:, :] # (layers, len, hiddensize)\n",
    "\n",
    "kkn_logits = torch.cdist(hiddens.reshape(-1, hiddens.shape[-1]), emb_weight, compute_mode='use_mm_for_euclid_dist') # (layers, Len, vocab_size)\n",
    "kkn_logits = kkn_logits.reshape(hiddens.shape[0], hiddens.shape[1], -1)\n",
    "\n",
    "down_words = {}\n",
    "for i in range(kkn_logits.shape[1]):\n",
    "    curr = kkn_logits[:, i, :]\n",
    "    x = torch.sort(curr).indices[:, 0]\n",
    "    down_words[i] = [tokenizer.decode(t) for t in x]"
   ]
  },
  {
   "cell_type": "code",
   "execution_count": 343,
   "id": "25e76fde",
   "metadata": {},
   "outputs": [
    {
     "data": {
      "text/plain": [
       "tensor([[[ 1.2579,  1.2421,  1.2637,  ...,  1.2261,  1.2261,  1.2261],\n",
       "         [ 1.1850,  1.1988,  1.2359,  ...,  1.1425,  1.1425,  1.1426],\n",
       "         [ 1.1987,  1.2351,  1.3284,  ...,  1.4053,  1.4053,  1.4053],\n",
       "         [ 1.5635,  1.5837,  1.5695,  ...,  1.3579,  1.3579,  1.3579],\n",
       "         [ 1.1733,  1.2276,  1.3226,  ...,  1.4375,  1.4375,  1.4375],\n",
       "         [ 1.2864,  1.3112,  1.4115,  ...,  1.6557,  1.6557,  1.6557]],\n",
       "\n",
       "        [[ 2.3636,  2.3665,  2.3660,  ...,  2.3038,  2.3038,  2.3038],\n",
       "         [ 2.4102,  2.4356,  2.4342,  ...,  2.3579,  2.3579,  2.3579],\n",
       "         [ 2.0973,  2.1131,  2.1290,  ...,  2.0570,  2.0570,  2.0570],\n",
       "         [ 2.5646,  2.5955,  2.5797,  ...,  2.4969,  2.4969,  2.4969],\n",
       "         [ 1.7336,  1.7362,  1.7542,  ...,  1.6744,  1.6744,  1.6744],\n",
       "         [ 1.7192,  1.7206,  1.7469,  ...,  1.7072,  1.7072,  1.7072]],\n",
       "\n",
       "        [[ 3.0658,  3.0566,  3.0861,  ...,  3.0380,  3.0380,  3.0380],\n",
       "         [ 3.1900,  3.2169,  3.2076,  ...,  3.1517,  3.1517,  3.1517],\n",
       "         [ 3.1411,  3.1493,  3.1547,  ...,  3.1115,  3.1115,  3.1115],\n",
       "         [ 3.2453,  3.2458,  3.2535,  ...,  3.1868,  3.1868,  3.1868],\n",
       "         [ 2.8184,  2.8120,  2.8324,  ...,  2.7523,  2.7523,  2.7523],\n",
       "         [ 2.6171,  2.6159,  2.6355,  ...,  2.5889,  2.5889,  2.5889]],\n",
       "\n",
       "        ...,\n",
       "\n",
       "        [[42.4396, 42.4364, 42.4511,  ..., 42.4968, 42.4968, 42.4968],\n",
       "         [41.7482, 41.7688, 41.7828,  ..., 41.8256, 41.8256, 41.8256],\n",
       "         [43.0457, 43.0470, 43.0507,  ..., 43.0838, 43.0838, 43.0838],\n",
       "         [37.1367, 37.1703, 37.1523,  ..., 37.2058, 37.2058, 37.2058],\n",
       "         [38.3523, 38.3766, 38.3726,  ..., 38.4197, 38.4197, 38.4197],\n",
       "         [37.5242, 37.5396, 37.5358,  ..., 37.5320, 37.5320, 37.5320]],\n",
       "\n",
       "        [[48.3854, 48.3882, 48.4203,  ..., 48.5225, 48.5225, 48.5225],\n",
       "         [45.5316, 45.5498, 45.5857,  ..., 45.6896, 45.6896, 45.6896],\n",
       "         [45.6436, 45.6292, 45.6616,  ..., 45.7594, 45.7594, 45.7594],\n",
       "         [40.8630, 40.9002, 40.8999,  ..., 41.0035, 41.0035, 41.0035],\n",
       "         [41.2876, 41.3155, 41.3217,  ..., 41.4393, 41.4393, 41.4393],\n",
       "         [46.1501, 46.1522, 46.1500,  ..., 46.2101, 46.2101, 46.2101]],\n",
       "\n",
       "        [[89.5136, 89.5053, 89.5275,  ..., 89.6210, 89.6210, 89.6210],\n",
       "         [86.5887, 86.6095, 86.6425,  ..., 86.7008, 86.7008, 86.7008],\n",
       "         [83.3534, 83.3344, 83.3763,  ..., 83.4299, 83.4299, 83.4299],\n",
       "         [89.6578, 89.7039, 89.7099,  ..., 89.8025, 89.8025, 89.8025],\n",
       "         [85.5509, 85.5761, 85.5848,  ..., 85.6538, 85.6538, 85.6537],\n",
       "         [86.2370, 86.2601, 86.2183,  ..., 86.2484, 86.2484, 86.2484]]],\n",
       "       device='cuda:0')"
      ]
     },
     "execution_count": 343,
     "metadata": {},
     "output_type": "execute_result"
    }
   ],
   "source": [
    "kkn_logits.reshape(hiddens.shape[:-1] + (-1,))"
   ]
  },
  {
   "cell_type": "code",
   "execution_count": 337,
   "id": "5707c89c",
   "metadata": {},
   "outputs": [
    {
     "data": {
      "text/plain": [
       "tensor([[[ 1.2579,  1.2421,  1.2637,  ...,  1.2261,  1.2261,  1.2261],\n",
       "         [ 1.1850,  1.1988,  1.2359,  ...,  1.1425,  1.1425,  1.1426],\n",
       "         [ 1.1987,  1.2351,  1.3284,  ...,  1.4053,  1.4053,  1.4053],\n",
       "         [ 1.5635,  1.5837,  1.5695,  ...,  1.3579,  1.3579,  1.3579],\n",
       "         [ 1.1733,  1.2276,  1.3226,  ...,  1.4375,  1.4375,  1.4375],\n",
       "         [ 1.2864,  1.3112,  1.4115,  ...,  1.6557,  1.6557,  1.6557]],\n",
       "\n",
       "        [[ 2.3636,  2.3665,  2.3660,  ...,  2.3038,  2.3038,  2.3038],\n",
       "         [ 2.4102,  2.4356,  2.4342,  ...,  2.3579,  2.3579,  2.3579],\n",
       "         [ 2.0973,  2.1131,  2.1290,  ...,  2.0570,  2.0570,  2.0570],\n",
       "         [ 2.5646,  2.5955,  2.5797,  ...,  2.4969,  2.4969,  2.4969],\n",
       "         [ 1.7336,  1.7362,  1.7542,  ...,  1.6744,  1.6744,  1.6744],\n",
       "         [ 1.7192,  1.7206,  1.7469,  ...,  1.7072,  1.7072,  1.7072]],\n",
       "\n",
       "        [[ 3.0658,  3.0566,  3.0861,  ...,  3.0380,  3.0380,  3.0380],\n",
       "         [ 3.1900,  3.2169,  3.2076,  ...,  3.1517,  3.1517,  3.1517],\n",
       "         [ 3.1411,  3.1493,  3.1547,  ...,  3.1115,  3.1115,  3.1115],\n",
       "         [ 3.2453,  3.2458,  3.2535,  ...,  3.1868,  3.1868,  3.1868],\n",
       "         [ 2.8184,  2.8120,  2.8324,  ...,  2.7523,  2.7523,  2.7523],\n",
       "         [ 2.6171,  2.6159,  2.6355,  ...,  2.5889,  2.5889,  2.5889]],\n",
       "\n",
       "        ...,\n",
       "\n",
       "        [[42.4396, 42.4364, 42.4511,  ..., 42.4968, 42.4968, 42.4968],\n",
       "         [41.7482, 41.7688, 41.7828,  ..., 41.8256, 41.8256, 41.8256],\n",
       "         [43.0457, 43.0470, 43.0507,  ..., 43.0838, 43.0838, 43.0838],\n",
       "         [37.1367, 37.1703, 37.1523,  ..., 37.2058, 37.2058, 37.2058],\n",
       "         [38.3523, 38.3766, 38.3726,  ..., 38.4197, 38.4197, 38.4197],\n",
       "         [37.5242, 37.5396, 37.5358,  ..., 37.5320, 37.5320, 37.5320]],\n",
       "\n",
       "        [[48.3854, 48.3882, 48.4203,  ..., 48.5225, 48.5225, 48.5225],\n",
       "         [45.5316, 45.5498, 45.5857,  ..., 45.6896, 45.6896, 45.6896],\n",
       "         [45.6436, 45.6292, 45.6616,  ..., 45.7594, 45.7594, 45.7594],\n",
       "         [40.8630, 40.9002, 40.8999,  ..., 41.0035, 41.0035, 41.0035],\n",
       "         [41.2876, 41.3155, 41.3217,  ..., 41.4393, 41.4393, 41.4393],\n",
       "         [46.1501, 46.1522, 46.1500,  ..., 46.2101, 46.2101, 46.2101]],\n",
       "\n",
       "        [[89.5136, 89.5053, 89.5275,  ..., 89.6210, 89.6210, 89.6210],\n",
       "         [86.5887, 86.6095, 86.6425,  ..., 86.7008, 86.7008, 86.7008],\n",
       "         [83.3534, 83.3344, 83.3763,  ..., 83.4299, 83.4299, 83.4299],\n",
       "         [89.6578, 89.7039, 89.7099,  ..., 89.8025, 89.8025, 89.8025],\n",
       "         [85.5509, 85.5761, 85.5848,  ..., 85.6538, 85.6538, 85.6537],\n",
       "         [86.2370, 86.2601, 86.2183,  ..., 86.2484, 86.2484, 86.2484]]],\n",
       "       device='cuda:0')"
      ]
     },
     "execution_count": 337,
     "metadata": {},
     "output_type": "execute_result"
    }
   ],
   "source": [
    "kkn_logits"
   ]
  },
  {
   "cell_type": "code",
   "execution_count": 334,
   "id": "e4cdef98",
   "metadata": {},
   "outputs": [
    {
     "data": {
      "text/plain": [
       "['I', 'Ġhave', 'Ġa', 'Ġpen', 'Ġand', 'Ġ']"
      ]
     },
     "execution_count": 334,
     "metadata": {},
     "output_type": "execute_result"
    }
   ],
   "source": [
    "tok_text"
   ]
  },
  {
   "cell_type": "code",
   "execution_count": 335,
   "id": "a909324c",
   "metadata": {},
   "outputs": [
    {
     "data": {
      "application/vnd.jupyter.widget-view+json": {
       "model_id": "c1ce737de9b142af84a81a1df876cc7b",
       "version_major": 2,
       "version_minor": 0
      },
      "text/plain": [
       "VBox(children=(HBox(children=(Button(description='I', layout=Layout(height='50px', overflow='auto', width='150…"
      ]
     },
     "metadata": {},
     "output_type": "display_data"
    }
   ],
   "source": [
    "app = ExpandableBlocks(\n",
    "    top_words=tok_text, \n",
    "    dropdown_words=down_words,\n",
    "    min_width='150px'  # Увеличиваем ширину для более длинных слов\n",
    ")\n",
    "app.display()\n"
   ]
  },
  {
   "cell_type": "code",
   "execution_count": 310,
   "id": "eae3b2ae",
   "metadata": {},
   "outputs": [
    {
     "data": {
      "text/plain": [
       "{0: ['Hello',\n",
       "  'Hello',\n",
       "  'Hello',\n",
       "  'Hello',\n",
       "  'Hello',\n",
       "  'Hello',\n",
       "  ' Hello',\n",
       "  '.This',\n",
       "  '.The',\n",
       "  '.This',\n",
       "  '.This',\n",
       "  '.Please',\n",
       "  '.We',\n",
       "  'oo',\n",
       "  '!!\\n',\n",
       "  'Hello',\n",
       "  ' fellow',\n",
       "  ' hello',\n",
       "  ' hello',\n",
       "  ' everyone',\n",
       "  ' everyone',\n",
       "  ' everyone',\n",
       "  ' everyone',\n",
       "  ' everyone',\n",
       "  ' everyone',\n",
       "  ' everyone',\n",
       "  ' everyone',\n",
       "  ',',\n",
       "  ','],\n",
       " 1: ['!',\n",
       "  '!',\n",
       "  '!',\n",
       "  '!',\n",
       "  '!',\n",
       "  '!',\n",
       "  '!',\n",
       "  '!\\n',\n",
       "  '！',\n",
       "  '!I',\n",
       "  '.Please',\n",
       "  '!I',\n",
       "  '!I',\n",
       "  '!!\\n',\n",
       "  '!!\\n',\n",
       "  'Welcome',\n",
       "  ' hello',\n",
       "  'Welcome',\n",
       "  ' Welcome',\n",
       "  ' Welcome',\n",
       "  ' welcome',\n",
       "  ' welcome',\n",
       "  ' welcome',\n",
       "  ' welcome',\n",
       "  ' Welcome',\n",
       "  ' Welcome',\n",
       "  ' My',\n",
       "  ' I',\n",
       "  ' I']}"
      ]
     },
     "execution_count": 310,
     "metadata": {},
     "output_type": "execute_result"
    }
   ],
   "source": [
    "down_words"
   ]
  },
  {
   "cell_type": "code",
   "execution_count": null,
   "id": "4c56759b",
   "metadata": {},
   "outputs": [
    {
     "data": {
      "text/plain": [
       "{'input_ids': tensor([[128000,    791,  40825,    430,    279,   6246,    527,   7086,    369,\n",
       "            527,    279,   1925,  33464,    315,  55507,   1624,    393,   8511,\n",
       "           5165,   5657,     13,   1226,   2163,    279,    921,    321,  12052,\n",
       "           8718,    773,    822,    520,    220,     18,   1428,    311,   1304,\n",
       "            279,   1403,   6596,  35331,    311,    279,  40825,     13,    578,\n",
       "          45688,    574,    264,  27946,  18916,    483,    369,    279,   1176,\n",
       "           6596,    477,    779,    927,   1633,   2867,  25911,     13,   2360]]), 'attention_mask': tensor([[1, 1, 1, 1, 1, 1, 1, 1, 1, 1, 1, 1, 1, 1, 1, 1, 1, 1, 1, 1, 1, 1, 1, 1,\n",
       "         1, 1, 1, 1, 1, 1, 1, 1, 1, 1, 1, 1, 1, 1, 1, 1, 1, 1, 1, 1, 1, 1, 1, 1,\n",
       "         1, 1, 1, 1, 1, 1, 1, 1, 1, 1, 1, 1, 1, 1, 1]])}"
      ]
     },
     "metadata": {},
     "output_type": "display_data"
    }
   ],
   "source": [
    "inputs"
   ]
  },
  {
   "cell_type": "code",
   "execution_count": 301,
   "id": "74ed2196",
   "metadata": {},
   "outputs": [
    {
     "data": {
      "text/plain": [
       "tensor([[    0,  4999],\n",
       "        [    0,  4999],\n",
       "        [    0,  4999],\n",
       "        [    0,  4999],\n",
       "        [    0,  4999],\n",
       "        [    0,  4999],\n",
       "        [    0,  4999],\n",
       "        [ 4999,     0],\n",
       "        [ 6447,   998],\n",
       "        [91597, 82927],\n",
       "        [82927, 91597],\n",
       "        [91597, 82927],\n",
       "        [91597, 82927],\n",
       "        [51447, 80395],\n",
       "        [51447, 80395],\n",
       "        [14262, 20776],\n",
       "        [24748, 14262],\n",
       "        [14262, 20776],\n",
       "        [20776, 10788],\n",
       "        [20776, 10788],\n",
       "        [10788, 20776],\n",
       "        [10788, 20776],\n",
       "        [10788, 20776],\n",
       "        [10788, 20776],\n",
       "        [20776, 10788],\n",
       "        [20776,  3092],\n",
       "        [ 3092, 20776],\n",
       "        [  358,  3092],\n",
       "        [  358,  3092]], device='cuda:0')"
      ]
     },
     "execution_count": 301,
     "metadata": {},
     "output_type": "execute_result"
    }
   ],
   "source": [
    "torch.sort(curr).indices[:, :TOP_K]\n"
   ]
  },
  {
   "cell_type": "code",
   "execution_count": 297,
   "id": "02aa9b4a",
   "metadata": {},
   "outputs": [
    {
     "data": {
      "text/plain": [
       "torch.Size([29, 2, 128256])"
      ]
     },
     "execution_count": 297,
     "metadata": {},
     "output_type": "execute_result"
    }
   ],
   "source": [
    "kkn_logits.shape"
   ]
  },
  {
   "cell_type": "code",
   "execution_count": 308,
   "id": "e2fdc0d7",
   "metadata": {},
   "outputs": [
    {
     "data": {
      "text/plain": [
       "'!\\n'"
      ]
     },
     "execution_count": 308,
     "metadata": {},
     "output_type": "execute_result"
    }
   ],
   "source": [
    "tokenizer.decode(4999)"
   ]
  },
  {
   "cell_type": "code",
   "execution_count": 287,
   "id": "5642b2f6",
   "metadata": {},
   "outputs": [
    {
     "data": {
      "text/plain": [
       "torch.Size([29, 2, 128256])"
      ]
     },
     "execution_count": 287,
     "metadata": {},
     "output_type": "execute_result"
    }
   ],
   "source": [
    "argsortkkn_logits.shape"
   ]
  },
  {
   "cell_type": "code",
   "execution_count": 280,
   "id": "c2020978",
   "metadata": {},
   "outputs": [
    {
     "data": {
      "text/plain": [
       "torch.Size([58, 128256])"
      ]
     },
     "execution_count": 280,
     "metadata": {},
     "output_type": "execute_result"
    }
   ],
   "source": [
    "kkn_logits.shape"
   ]
  },
  {
   "cell_type": "code",
   "execution_count": 272,
   "id": "c81a9d1b",
   "metadata": {},
   "outputs": [
    {
     "data": {
      "text/plain": [
       "['Hello', '!']"
      ]
     },
     "execution_count": 272,
     "metadata": {},
     "output_type": "execute_result"
    }
   ],
   "source": [
    "tok_text"
   ]
  },
  {
   "cell_type": "code",
   "execution_count": 274,
   "id": "8ea48c4b",
   "metadata": {},
   "outputs": [
    {
     "data": {
      "text/plain": [
       "torch.Size([29, 2, 3072])"
      ]
     },
     "execution_count": 274,
     "metadata": {},
     "output_type": "execute_result"
    }
   ],
   "source": [
    ".shape"
   ]
  },
  {
   "cell_type": "code",
   "execution_count": null,
   "id": "f419c9ff",
   "metadata": {},
   "outputs": [],
   "source": []
  }
 ],
 "metadata": {
  "kernelspec": {
   "display_name": "try-tad",
   "language": "python",
   "name": "python3"
  },
  "language_info": {
   "codemirror_mode": {
    "name": "ipython",
    "version": 3
   },
   "file_extension": ".py",
   "mimetype": "text/x-python",
   "name": "python",
   "nbconvert_exporter": "python",
   "pygments_lexer": "ipython3",
   "version": "3.11.12"
  }
 },
 "nbformat": 4,
 "nbformat_minor": 5
}
